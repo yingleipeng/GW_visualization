{
 "cells": [
  {
   "cell_type": "markdown",
   "metadata": {},
   "source": [
    "## Newtonian Elliptical Orbit\n",
    "This model aims to plot the orbit of two black holes with no post-newtonian corrections. Thus, it is a typical elliptical orbit of two masses $M_1$ and $M_2$. We implement the RK4 method in the model."
   ]
  },
  {
   "cell_type": "code",
   "execution_count": 1,
   "metadata": {},
   "outputs": [],
   "source": [
    "# imports\n",
    "import numpy as np\n",
    "import math\n",
    "from mpl_toolkits.mplot3d import Axes3D\n",
    "from matplotlib.animation import FuncAnimation\n",
    "from IPython.display import HTML"
   ]
  },
  {
   "cell_type": "code",
   "execution_count": 2,
   "metadata": {},
   "outputs": [],
   "source": [
    "# gravitational constant\n",
    "G = 6.67430e-11\n"
   ]
  },
  {
   "cell_type": "code",
   "execution_count": 18,
   "metadata": {},
   "outputs": [],
   "source": [
    "# acceleration and velocity ODEs\n",
    "# in x-y plane, there are 8 total terms (2 for velocity, 2 for acceleration x2 for each body)\n",
    "# the parameter state = [x, y, vx, vy]\n",
    "def ODEs(states, m1, m2):\n",
    "    # define states\n",
    "    state1, state2 = states[0], states[1]\n",
    "\n",
    "    # define positions\n",
    "    x1, x2 = state1[0], state2[0]\n",
    "    y1, y2 = state1[1], state2[1]\n",
    "\n",
    "    # velocities\n",
    "    vx1, vx2 = state1[2], state2[2]\n",
    "    vy1, vy2 = state1[3], state2[3]\n",
    "\n",
    "    # separation distance\n",
    "    r = np.sqrt((x2 - x1)**2 + (y2 - y1)**2)\n",
    "    r3 = r ** 3\n",
    "    assert r3 != 0, \"Cannot divide by zero\"\n",
    "\n",
    "    # ODEs: mass 1\n",
    "    dxdt_m1 = vx1\n",
    "    dydt_m1 = vy1\n",
    "\n",
    "    dx2dt2_m1 = (-G * m2) / r3\n",
    "    dy2dt2_m1 = (-G * m2) / r3\n",
    "\n",
    "    # ODEs: mass 2\n",
    "    dxdt_m2 = vx2\n",
    "    dydt_m2 = vy2\n",
    "\n",
    "    dx2dt2_m2 = (-G * m1) / r3\n",
    "    dy2dt2_m2 = (-G * m1) / r3\n",
    "\n",
    "    # return derivatives\n",
    "    s1 = np.array([dxdt_m1, dydt_m1, dx2dt2_m1, dy2dt2_m1], float)\n",
    "    s2 = np.array([dxdt_m2, dydt_m2, dx2dt2_m2, dy2dt2_m2], float)\n",
    "    return np.vstack((s1, s2))"
   ]
  },
  {
   "cell_type": "code",
   "execution_count": 19,
   "metadata": {},
   "outputs": [],
   "source": [
    "# RK4 method\n",
    "def rk4(s, m1, m2, dt):\n",
    "    k1 = dt * ODEs(s, m1, m2)\n",
    "    k2 = dt * ODEs(s + 0.5 * k1, m1, m2)\n",
    "    k3 = dt * ODEs(s + 0.5 * k2, m1, m2)\n",
    "    k4 = dt * ODEs(s + k3, m1, m2)\n",
    "\n",
    "    correction = (1/6) * (k1 + (2 * k2) + (2*k3) + k4)\n",
    "    return s + correction"
   ]
  },
  {
   "cell_type": "code",
   "execution_count": 35,
   "metadata": {},
   "outputs": [],
   "source": [
    "# simple class to hold the body's paramaters and methods\n",
    "class Body(object):\n",
    "    def __init__(self, mass, initial_x, initial_y, initial_vx, initial_vy):\n",
    "        self.mass = mass\n",
    "        self.initial_x = initial_x\n",
    "        self.initial_y = initial_y\n",
    "        self.initial_vx = initial_vx\n",
    "        self.initial_vy = initial_vy\n",
    "        self.state = np.array([self.initial_x, self.initial_y, self.initial_vx, self.initial_vy])\n",
    "\n",
    "    def set_zeros(size):\n",
    "        self.x = np.zeros(size)\n",
    "        self.y = np.zeros(size)\n",
    "        self.vx = np.zeros(size)\n",
    "        self.vy = np.zeros(size)\n",
    "\n",
    "        # set initial state in array\n",
    "        self.x[0] = self.initial_x\n",
    "        self.y[0] = self.initial_y\n",
    "        self.vx[0] = self.initial_vx\n",
    "        self.vy[0] = self.initial_vy\n",
    "\n",
    "        return self.x, self.y, self.vx, self.vy\n",
    "\n",
    "\n",
    "    def get_state(i):\n",
    "        return np.array([self.x[i]], self.y[i], self.vx[i], self.vy[i])\n",
    "    \n",
    "    def set_state(i, s):\n",
    "        self.x[i] = s[0]\n",
    "        self.y[i] = s[1]\n",
    "        self.vx[i] = s[2]\n",
    "        self.vy[i] = s[3]\n",
    "\n",
    "    \n",
    "        "
   ]
  },
  {
   "cell_type": "code",
   "execution_count": 36,
   "metadata": {},
   "outputs": [],
   "source": [
    "def run_orbit(body1, body2, start, end, N):\n",
    "    dt = (end - start) / N\n",
    "    # set zeros for both masses\n",
    "    body1.set_zeros(N)\n",
    "    body2.set_zeros(N)\n",
    "\n",
    "    # run rk4 method\n",
    "    for i in range(1, N):\n",
    "        # get states for each mass\n",
    "        s1 = body1.get_state(i-1)\n",
    "        s2 = body2.get_state(i-1)\n",
    "\n",
    "        s_prev = np.vstack((s1, s2))\n",
    "\n",
    "        # run rk4\n",
    "        s_new = rk4(s, body1.mass, body2.mass, dt)\n",
    "\n",
    "        s1_new = s_new[0]\n",
    "        s2_new = s_new[1]\n",
    "\n",
    "        # set the state\n",
    "        body1.set_state(i, s1_new)\n",
    "        body2.set_state(i, s2_new)\n",
    "    "
   ]
  },
  {
   "cell_type": "code",
   "execution_count": null,
   "metadata": {},
   "outputs": [],
   "source": [
    "# Example usage\n",
    "# define black holes\n",
    "b1 = "
   ]
  }
 ],
 "metadata": {
  "kernelspec": {
   "display_name": "Python 3",
   "language": "python",
   "name": "python3"
  },
  "language_info": {
   "codemirror_mode": {
    "name": "ipython",
    "version": 3
   },
   "file_extension": ".py",
   "mimetype": "text/x-python",
   "name": "python",
   "nbconvert_exporter": "python",
   "pygments_lexer": "ipython3",
   "version": "3.13.1"
  }
 },
 "nbformat": 4,
 "nbformat_minor": 2
}
