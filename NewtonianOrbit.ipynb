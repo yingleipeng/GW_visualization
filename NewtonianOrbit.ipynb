{
 "cells": [
  {
   "cell_type": "markdown",
   "metadata": {},
   "source": [
    "## Newtonian Orbits\n",
    "The following code aims to model the orbit of two bodies $M_1$ and $M_2$ using purely Newtonian techniques. This does not include the energy loss to gravitational waves. We implemented the RK4 solver to calculate the positions over time."
   ]
  },
  {
   "cell_type": "code",
   "execution_count": 2,
   "metadata": {},
   "outputs": [],
   "source": [
    "# imports\n",
    "import numpy as np\n",
    "import math\n",
    "import matplotlib.pyplot as plt"
   ]
  },
  {
   "cell_type": "code",
   "execution_count": 3,
   "metadata": {},
   "outputs": [],
   "source": [
    "# gravitational constant\n",
    "G = 6.67430e-11"
   ]
  },
  {
   "cell_type": "code",
   "execution_count": 4,
   "metadata": {},
   "outputs": [],
   "source": [
    "# initialize Body class \n",
    "class Body():\n",
    "    def __init__(self, pos_vec, v_vec, mass):\n",
    "        self.pos = pos_vec\n",
    "        self.v = v_vec\n",
    "        self.mass = mass\n",
    "        self.state = np.concatenate((self.pos, self.v))\n",
    "    \n",
    "    def return_state(self):\n",
    "        return self.state\n",
    "   "
   ]
  },
  {
   "cell_type": "code",
   "execution_count": 5,
   "metadata": {},
   "outputs": [],
   "source": [
    "class Simulation():\n",
    "    def __init__(self, bodies):\n",
    "        self.bodies = bodies\n",
    "        self.N_bodies = 2 # expect 2 bodies for our simulation\n",
    "        self.Ndim = 4 # composed of (x,y) components for position, velocity\n",
    "        \n",
    "        self.b1 = bodies[0]\n",
    "        self.b2 = bodies[1]\n",
    "        self.state_vec = np.vstack((self.b1.return_state(), self.b2.return_state()))\n",
    "        self.mass_vec = np.array([self.b1.mass, self.b2.mass])\n",
    "\n",
    "    def set_ODEs(self, solver):\n",
    "        self.solver = solver\n",
    "\n",
    "    def rk4(self, dt):\n",
    "        k1 = dt * self.solver(self.state_vec, self.mass_vec)\n",
    "        k2 = dt * self.solver(self.state_vec + 0.5 * k1, self.mass_vec)\n",
    "        k3 = dt * self.solver(self.state_vec + 0.5 * k2, self.mass_vec)\n",
    "        k4 = dt * self.solver(self.state_vec + k3, self.mass_vec)\n",
    "\n",
    "        new_state = self.state_vec + (1/6) * (k1 + 2*k2 + 2*k3 + k4)\n",
    "        return new_state\n",
    "\n",
    "    def run(self, dt, steps):\n",
    "        self.b1_history = np.zeros((steps, 4))\n",
    "        self.b2_history = np.zeros((steps, 4))\n",
    "\n",
    "        # set initial state\n",
    "        self.b1_history[0] = self.b1.return_state()\n",
    "        self.b2_history[0] = self.b2.return_state()\n",
    "\n",
    "        for i in range(1, steps):\n",
    "            # calculate new state with rk4\n",
    "            new_state = self.rk4(dt)\n",
    "\n",
    "            # append new state to history\n",
    "            b1_new = new_state[0]\n",
    "            b2_new = new_state[1]\n",
    "            self.b1_history[i] = b1_new\n",
    "            self.b2_history[i] = b2_new\n",
    "\n",
    "            # set state_vec attribute as the new state\n",
    "            self.state_vec = new_state\n",
    "\n",
    "            # repeat"
   ]
  },
  {
   "cell_type": "code",
   "execution_count": 6,
   "metadata": {},
   "outputs": [],
   "source": [
    "# solver routine\n",
    "def solve_orbit(state_vec, masses):\n",
    "    # masses\n",
    "    m1 = masses[0]\n",
    "    m2 = masses[1]\n",
    "\n",
    "    # positions\n",
    "    b1_pos = state_vec[0][0:2]\n",
    "    b2_pos = state_vec[1][0:2]\n",
    "\n",
    "    # velocities\n",
    "    b1_v = state_vec[0][2:]\n",
    "    b2_v = state_vec[1][2:]\n",
    "\n",
    "    # separations\n",
    "    dx = b1_pos[0] - b2_pos[0] # points from b2 to b1\n",
    "    dy = b1_pos[1] - b2_pos[1]\n",
    "\n",
    "    # r separation distance\n",
    "    r = np.sqrt(dx**2 + dy**2)\n",
    "    r3 = r**3\n",
    "\n",
    "    # calculate accelerations\n",
    "    ax_1 = ((-G * m2) / r3) * dx\n",
    "    ay_1 = ((-G * m2) / r3) * dy\n",
    "\n",
    "    ax_2 = ((-G * m1) / r3) * (-dx)\n",
    "    ay_2 = ((-G * m1) / r3) * (-dy)\n",
    "\n",
    "    # return the derivatives\n",
    "    b1_a = np.array([ax_1, ay_1])\n",
    "    b1_derivs = np.concatenate((b1_v, b1_a)) # velocity and acceleration\n",
    "\n",
    "    b2_a = np.array([ax_2, ay_2])\n",
    "    b2_derivs = np.concatenate((b2_v, b2_a)) # velocity and acceleration\n",
    "\n",
    "    # stack\n",
    "    return np.vstack((b1_derivs, b2_derivs))"
   ]
  },
  {
   "cell_type": "code",
   "execution_count": 241,
   "metadata": {},
   "outputs": [],
   "source": [
    "# Example Usage \n",
    "# define two black hole masses\n",
    "m1 = 5.967e31  \n",
    "m2 = 7.956e31\n",
    "Mtot = m1 + m2\n",
    "\n",
    "# define separation\n",
    "r = 1e9\n",
    "\n",
    "# # position components\n",
    "xi1 = -r * m2 / Mtot\n",
    "xi2 = r * m1 / Mtot\n",
    "yi1 = yi2 = 0\n",
    "# x1 = -m2 / (m1 + m2) * r\n",
    "# x2 =  m1 / (m1 + m2) * r\n",
    "# y1 = y2 = 0\n",
    "\n",
    "# # orbital velocity\n",
    "v_orb = np.sqrt(G * Mtot / r)\n",
    "vx1 = 0\n",
    "vx2 = 0\n",
    "vy1 = 0.7 * v_orb * m2 / Mtot\n",
    "vy2 = -0.7 * v_orb * m1 / Mtot\n",
    "\n",
    "# # velocity components\n",
    "# vx1 = 0\n",
    "# vy1 =  m2 / (m1 + m2) * v_orb\n",
    "# vx2 = 0\n",
    "# vy2 = -m1 / (m1 + m2) * v_orb\n",
    "\n",
    "# create Bodies\n",
    "bh1 = Body(np.array([xi1, yi1]), np.array([vx1, vy1]), m1)\n",
    "bh2 = Body(np.array([xi2, yi2]), np.array([vx2, vy2]), m2)\n",
    "\n",
    "# create Simulation\n",
    "bh_sim = Simulation([bh1, bh2])\n",
    "\n",
    "# set solver\n",
    "bh_sim.set_ODEs(solve_orbit)\n"
   ]
  },
  {
   "cell_type": "code",
   "execution_count": 242,
   "metadata": {},
   "outputs": [],
   "source": [
    "# run simulation\n",
    "T = 2.36e6\n",
    "dt = 10\n",
    "\n",
    "bh_sim.run(dt, int(T/dt))"
   ]
  },
  {
   "cell_type": "code",
   "execution_count": 243,
   "metadata": {},
   "outputs": [
    {
     "data": {
      "image/png": "[encoded data removed]",
      "text/plain": [
       "<Figure size 640x480 with 1 Axes>"
      ]
     },
     "metadata": {},
     "output_type": "display_data"
    }
   ],
   "source": [
    "# plot orbits\n",
    "\n",
    "\n",
    "x1 = bh_sim.b1_history[:, 0]\n",
    "x2 = bh_sim.b2_history[:, 0]\n",
    "\n",
    "\n",
    "y1 = bh_sim.b1_history[:, 1]\n",
    "y2 = bh_sim.b2_history[:, 1]\n",
    "\n",
    "\n",
    "plt.plot(xi1, yi1, 'o', color='black')\n",
    "plt.plot(xi2, yi2, 'o', color='black')\n",
    "plt.plot(x1, y1, alpha=0.5, linestyle='--')\n",
    "plt.plot(x2, y2, alpha=0.5, linestyle=':')\n",
    "plt.ylabel(\"Y Position\")\n",
    "plt.xlabel(\"X Position\")\n",
    "plt.title(\"Black Hole Orbit\\nNewtonian Dynamics\")\n",
    "\n",
    "plt.show()"
   ]
  },
  {
   "cell_type": "code",
   "execution_count": null,
   "metadata": {},
   "outputs": [],
   "source": []
  }
 ],
 "metadata": {
  "kernelspec": {
   "display_name": "Python 3",
   "language": "python",
   "name": "python3"
  },
  "language_info": {
   "codemirror_mode": {
    "name": "ipython",
    "version": 3
   },
   "file_extension": ".py",
   "mimetype": "text/x-python",
   "name": "python",
   "nbconvert_exporter": "python",
   "pygments_lexer": "ipython3",
   "version": "3.13.1"
  }
 },
 "nbformat": 4,
 "nbformat_minor": 2
}
